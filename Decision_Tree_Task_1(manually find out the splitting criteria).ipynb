{
 "cells": [
  {
   "cell_type": "markdown",
   "metadata": {
    "colab_type": "text",
    "id": "view-in-github"
   },
   "source": [
    "<a href=\"https://colab.research.google.com/github/Sankha1998/machine_learning/blob/master/Decision_Tree_Task_1.ipynb\" target=\"_parent\"><img src=\"https://colab.research.google.com/assets/colab-badge.svg\" alt=\"Open In Colab\"/></a>"
   ]
  },
  {
   "cell_type": "code",
   "execution_count": 48,
   "metadata": {
    "colab": {},
    "colab_type": "code",
    "id": "Y1-7RP-1im5n"
   },
   "outputs": [],
   "source": [
    "## task 1 :"
   ]
  },
  {
   "cell_type": "code",
   "execution_count": 49,
   "metadata": {
    "colab": {},
    "colab_type": "code",
    "id": "WZtlwL-5Hvr_"
   },
   "outputs": [],
   "source": [
    "import math\n",
    "import pandas as pd\n",
    "import numpy as np\n"
   ]
  },
  {
   "cell_type": "code",
   "execution_count": 50,
   "metadata": {
    "colab": {
     "base_uri": "https://localhost:8080/",
     "height": 206
    },
    "colab_type": "code",
    "id": "fSTAUZAUHma5",
    "outputId": "86cdc29b-11b7-47b5-b6cc-0fdeed6d0a82"
   },
   "outputs": [
    {
     "data": {
      "text/html": [
       "<div>\n",
       "<style scoped>\n",
       "    .dataframe tbody tr th:only-of-type {\n",
       "        vertical-align: middle;\n",
       "    }\n",
       "\n",
       "    .dataframe tbody tr th {\n",
       "        vertical-align: top;\n",
       "    }\n",
       "\n",
       "    .dataframe thead th {\n",
       "        text-align: right;\n",
       "    }\n",
       "</style>\n",
       "<table border=\"1\" class=\"dataframe\">\n",
       "  <thead>\n",
       "    <tr style=\"text-align: right;\">\n",
       "      <th></th>\n",
       "      <th>day</th>\n",
       "      <th>outlook</th>\n",
       "      <th>temp</th>\n",
       "      <th>humidity</th>\n",
       "      <th>wind</th>\n",
       "      <th>play</th>\n",
       "    </tr>\n",
       "  </thead>\n",
       "  <tbody>\n",
       "    <tr>\n",
       "      <td>0</td>\n",
       "      <td>D1</td>\n",
       "      <td>Sunny</td>\n",
       "      <td>Hot</td>\n",
       "      <td>High</td>\n",
       "      <td>Weak</td>\n",
       "      <td>No</td>\n",
       "    </tr>\n",
       "    <tr>\n",
       "      <td>1</td>\n",
       "      <td>D2</td>\n",
       "      <td>Sunny</td>\n",
       "      <td>Hot</td>\n",
       "      <td>High</td>\n",
       "      <td>Strong</td>\n",
       "      <td>No</td>\n",
       "    </tr>\n",
       "    <tr>\n",
       "      <td>2</td>\n",
       "      <td>D3</td>\n",
       "      <td>Overcast</td>\n",
       "      <td>Hot</td>\n",
       "      <td>High</td>\n",
       "      <td>Weak</td>\n",
       "      <td>Yes</td>\n",
       "    </tr>\n",
       "    <tr>\n",
       "      <td>3</td>\n",
       "      <td>D4</td>\n",
       "      <td>Rain</td>\n",
       "      <td>Mild</td>\n",
       "      <td>High</td>\n",
       "      <td>Weak</td>\n",
       "      <td>Yes</td>\n",
       "    </tr>\n",
       "    <tr>\n",
       "      <td>4</td>\n",
       "      <td>D5</td>\n",
       "      <td>Rain</td>\n",
       "      <td>Cool</td>\n",
       "      <td>Normal</td>\n",
       "      <td>Weak</td>\n",
       "      <td>Yes</td>\n",
       "    </tr>\n",
       "  </tbody>\n",
       "</table>\n",
       "</div>"
      ],
      "text/plain": [
       "  day   outlook  temp humidity    wind play\n",
       "0  D1     Sunny   Hot     High    Weak   No\n",
       "1  D2     Sunny   Hot     High  Strong   No\n",
       "2  D3  Overcast   Hot     High    Weak  Yes\n",
       "3  D4      Rain  Mild     High    Weak  Yes\n",
       "4  D5      Rain  Cool   Normal    Weak  Yes"
      ]
     },
     "execution_count": 50,
     "metadata": {},
     "output_type": "execute_result"
    }
   ],
   "source": [
    "df = pd.read_csv('play_tennis.csv')\n",
    "df.head()"
   ]
  },
  {
   "cell_type": "code",
   "execution_count": 51,
   "metadata": {
    "colab": {
     "base_uri": "https://localhost:8080/",
     "height": 35
    },
    "colab_type": "code",
    "id": "TE2qDP9kJ3Ic",
    "outputId": "f6186900-861a-478b-f943-daeb868f5fd0"
   },
   "outputs": [
    {
     "data": {
      "text/plain": [
       "(14, 6)"
      ]
     },
     "execution_count": 51,
     "metadata": {},
     "output_type": "execute_result"
    }
   ],
   "source": [
    "df.shape"
   ]
  },
  {
   "cell_type": "code",
   "execution_count": 52,
   "metadata": {
    "colab": {},
    "colab_type": "code",
    "id": "5bfRVdnTgJ48"
   },
   "outputs": [],
   "source": [
    "def entropy(y,n):\n",
    "  if(y==0):\n",
    "    return (-n*np.log2(n))\n",
    "  elif (n==0):\n",
    "    return (-y*np.log2(y))\n",
    "  else:\n",
    "    return (-y*np.log2(y)-n*np.log2(n))"
   ]
  },
  {
   "cell_type": "code",
   "execution_count": 53,
   "metadata": {
    "colab": {},
    "colab_type": "code",
    "id": "9hOG7yu2IVty"
   },
   "outputs": [],
   "source": [
    "yes = df[df['play']=='Yes'].shape[0]/df.shape[0]\n",
    "no = df[df['play']=='No'].shape[0]/df.shape[0]\n",
    "parent_entropy = -yes*np.log2(yes)-no*np.log2(no)\n"
   ]
  },
  {
   "cell_type": "code",
   "execution_count": 54,
   "metadata": {
    "colab": {
     "base_uri": "https://localhost:8080/",
     "height": 35
    },
    "colab_type": "code",
    "id": "H8oUlq3dJOcu",
    "outputId": "ac69a42f-59ad-48f5-aa1b-959f70193936"
   },
   "outputs": [
    {
     "data": {
      "text/plain": [
       "0.9402859586706311"
      ]
     },
     "execution_count": 54,
     "metadata": {},
     "output_type": "execute_result"
    }
   ],
   "source": [
    "parent_entropy"
   ]
  },
  {
   "cell_type": "code",
   "execution_count": 55,
   "metadata": {
    "colab": {},
    "colab_type": "code",
    "id": "XehQVvuvrfEF"
   },
   "outputs": [],
   "source": [
    "\n",
    "col = df.columns"
   ]
  },
  {
   "cell_type": "code",
   "execution_count": 56,
   "metadata": {
    "colab": {
     "base_uri": "https://localhost:8080/",
     "height": 35
    },
    "colab_type": "code",
    "id": "ywxtNx5lwGZi",
    "outputId": "38d8b4a6-7cb1-4280-e17c-660f3888dd5e"
   },
   "outputs": [
    {
     "data": {
      "text/plain": [
       "Index(['day', 'outlook', 'temp', 'humidity', 'wind', 'play'], dtype='object')"
      ]
     },
     "execution_count": 56,
     "metadata": {},
     "output_type": "execute_result"
    }
   ],
   "source": [
    "col"
   ]
  },
  {
   "cell_type": "code",
   "execution_count": 57,
   "metadata": {
    "colab": {},
    "colab_type": "code",
    "id": "BTyfTA42M8yP"
   },
   "outputs": [],
   "source": [
    "def per_col(x):\n",
    "  all_entropy=[]\n",
    "  \n",
    "  col_index = df[x].value_counts().index\n",
    "  i = 0\n",
    "  while i < len(col_index):\n",
    "\n",
    "    dfx = df[df[x]==col_index[i]]\n",
    "    yes = dfx[dfx['play']=='Yes'].shape[0]\n",
    "    no = dfx[dfx['play']=='No'].shape[0]\n",
    "    p_y = yes/dfx.shape[0]\n",
    "    p_n = no/dfx.shape[0]\n",
    "    e = entropy(p_y,p_n)\n",
    "    weighted_entropy=(dfx.shape[0]/df.shape[0])*e\n",
    "    all_entropy.append(weighted_entropy)\n",
    "    i=i+1\n",
    "\n",
    "\n",
    "  return (parent_entropy - sum(all_entropy))"
   ]
  },
  {
   "cell_type": "code",
   "execution_count": 58,
   "metadata": {
    "colab": {
     "base_uri": "https://localhost:8080/",
     "height": 35
    },
    "colab_type": "code",
    "id": "hqUArDyxWQc0",
    "outputId": "69d54191-eceb-4495-8ec4-f6338a4fe1b3"
   },
   "outputs": [
    {
     "data": {
      "text/plain": [
       "Index(['day', 'outlook', 'temp', 'humidity', 'wind', 'play'], dtype='object')"
      ]
     },
     "execution_count": 58,
     "metadata": {},
     "output_type": "execute_result"
    }
   ],
   "source": [
    "col"
   ]
  },
  {
   "cell_type": "code",
   "execution_count": 59,
   "metadata": {
    "colab": {},
    "colab_type": "code",
    "id": "SiWQIpneQJL6"
   },
   "outputs": [],
   "source": [
    "i = 1\n",
    "l = {}\n",
    "while i < len(col)-1:\n",
    "  val = per_col(col[i])\n",
    "  colm = col[i]\n",
    "  l[colm]=val\n",
    "  i=i+1\n",
    "  "
   ]
  },
  {
   "cell_type": "code",
   "execution_count": 60,
   "metadata": {
    "colab": {
     "base_uri": "https://localhost:8080/",
     "height": 90
    },
    "colab_type": "code",
    "id": "SctSJBFuiC2N",
    "outputId": "d34119bb-49ed-4acd-a2e1-03bf165802c3"
   },
   "outputs": [
    {
     "data": {
      "text/plain": [
       "{'outlook': 0.24674981977443933,\n",
       " 'temp': 0.02922256565895487,\n",
       " 'humidity': 0.15183550136234159,\n",
       " 'wind': 0.04812703040826949}"
      ]
     },
     "execution_count": 60,
     "metadata": {},
     "output_type": "execute_result"
    }
   ],
   "source": [
    "l"
   ]
  },
  {
   "cell_type": "code",
   "execution_count": 61,
   "metadata": {
    "colab": {
     "base_uri": "https://localhost:8080/",
     "height": 35
    },
    "colab_type": "code",
    "id": "sfVSs_Q3fwA9",
    "outputId": "7e781aa1-3c08-4396-934b-711bcc14bcda"
   },
   "outputs": [
    {
     "data": {
      "text/plain": [
       "'outlook'"
      ]
     },
     "execution_count": 61,
     "metadata": {},
     "output_type": "execute_result"
    }
   ],
   "source": [
    "max(l,key=l.get)"
   ]
  },
  {
   "cell_type": "code",
   "execution_count": null,
   "metadata": {
    "colab": {},
    "colab_type": "code",
    "id": "l71-AUggxd9D"
   },
   "outputs": [],
   "source": []
  },
  {
   "cell_type": "code",
   "execution_count": 62,
   "metadata": {
    "colab": {},
    "colab_type": "code",
    "id": "Sqr12YPOOwvB"
   },
   "outputs": [],
   "source": [
    "# task 2 : You have to work on the iris dataset and manually find out the splitting criteria for Petal Length column"
   ]
  },
  {
   "cell_type": "code",
   "execution_count": 64,
   "metadata": {
    "colab": {
     "base_uri": "https://localhost:8080/",
     "height": 206
    },
    "colab_type": "code",
    "id": "J0U0Jn3Oir8E",
    "outputId": "05fe371c-cf9a-4f5f-8c22-3af174d60cad"
   },
   "outputs": [
    {
     "data": {
      "text/html": [
       "<div>\n",
       "<style scoped>\n",
       "    .dataframe tbody tr th:only-of-type {\n",
       "        vertical-align: middle;\n",
       "    }\n",
       "\n",
       "    .dataframe tbody tr th {\n",
       "        vertical-align: top;\n",
       "    }\n",
       "\n",
       "    .dataframe thead th {\n",
       "        text-align: right;\n",
       "    }\n",
       "</style>\n",
       "<table border=\"1\" class=\"dataframe\">\n",
       "  <thead>\n",
       "    <tr style=\"text-align: right;\">\n",
       "      <th></th>\n",
       "      <th>Id</th>\n",
       "      <th>SepalLengthCm</th>\n",
       "      <th>SepalWidthCm</th>\n",
       "      <th>PetalLengthCm</th>\n",
       "      <th>PetalWidthCm</th>\n",
       "      <th>Species</th>\n",
       "    </tr>\n",
       "  </thead>\n",
       "  <tbody>\n",
       "    <tr>\n",
       "      <td>0</td>\n",
       "      <td>1</td>\n",
       "      <td>5.1</td>\n",
       "      <td>3.5</td>\n",
       "      <td>1.4</td>\n",
       "      <td>0.2</td>\n",
       "      <td>Iris-setosa</td>\n",
       "    </tr>\n",
       "    <tr>\n",
       "      <td>1</td>\n",
       "      <td>2</td>\n",
       "      <td>4.9</td>\n",
       "      <td>3.0</td>\n",
       "      <td>1.4</td>\n",
       "      <td>0.2</td>\n",
       "      <td>Iris-setosa</td>\n",
       "    </tr>\n",
       "    <tr>\n",
       "      <td>2</td>\n",
       "      <td>3</td>\n",
       "      <td>4.7</td>\n",
       "      <td>3.2</td>\n",
       "      <td>1.3</td>\n",
       "      <td>0.2</td>\n",
       "      <td>Iris-setosa</td>\n",
       "    </tr>\n",
       "    <tr>\n",
       "      <td>3</td>\n",
       "      <td>4</td>\n",
       "      <td>4.6</td>\n",
       "      <td>3.1</td>\n",
       "      <td>1.5</td>\n",
       "      <td>0.2</td>\n",
       "      <td>Iris-setosa</td>\n",
       "    </tr>\n",
       "    <tr>\n",
       "      <td>4</td>\n",
       "      <td>5</td>\n",
       "      <td>5.0</td>\n",
       "      <td>3.6</td>\n",
       "      <td>1.4</td>\n",
       "      <td>0.2</td>\n",
       "      <td>Iris-setosa</td>\n",
       "    </tr>\n",
       "  </tbody>\n",
       "</table>\n",
       "</div>"
      ],
      "text/plain": [
       "   Id  SepalLengthCm  SepalWidthCm  PetalLengthCm  PetalWidthCm      Species\n",
       "0   1            5.1           3.5            1.4           0.2  Iris-setosa\n",
       "1   2            4.9           3.0            1.4           0.2  Iris-setosa\n",
       "2   3            4.7           3.2            1.3           0.2  Iris-setosa\n",
       "3   4            4.6           3.1            1.5           0.2  Iris-setosa\n",
       "4   5            5.0           3.6            1.4           0.2  Iris-setosa"
      ]
     },
     "execution_count": 64,
     "metadata": {},
     "output_type": "execute_result"
    }
   ],
   "source": [
    "df1 = pd.read_csv('Iris.csv')\n",
    "df1.head()"
   ]
  },
  {
   "cell_type": "code",
   "execution_count": 65,
   "metadata": {
    "colab": {},
    "colab_type": "code",
    "id": "0sd-cFP0MV96"
   },
   "outputs": [],
   "source": [
    "pl=df1['PetalLengthCm'].unique()"
   ]
  },
  {
   "cell_type": "code",
   "execution_count": 66,
   "metadata": {
    "colab": {
     "base_uri": "https://localhost:8080/",
     "height": 90
    },
    "colab_type": "code",
    "id": "0V791kX3fTTf",
    "outputId": "dba9ca8f-214b-4d25-f2d7-af3bef8a3289"
   },
   "outputs": [
    {
     "data": {
      "text/plain": [
       "array([1.4, 1.3, 1.5, 1.7, 1.6, 1.1, 1.2, 1. , 1.9, 4.7, 4.5, 4.9, 4. ,\n",
       "       4.6, 3.3, 3.9, 3.5, 4.2, 3.6, 4.4, 4.1, 4.8, 4.3, 5. , 3.8, 3.7,\n",
       "       5.1, 3. , 6. , 5.9, 5.6, 5.8, 6.6, 6.3, 6.1, 5.3, 5.5, 6.7, 6.9,\n",
       "       5.7, 6.4, 5.4, 5.2])"
      ]
     },
     "execution_count": 66,
     "metadata": {},
     "output_type": "execute_result"
    }
   ],
   "source": [
    "pl"
   ]
  },
  {
   "cell_type": "code",
   "execution_count": 67,
   "metadata": {
    "colab": {},
    "colab_type": "code",
    "id": "Je3X8RZuAr2O"
   },
   "outputs": [],
   "source": [
    "e_p =  df1['Species'].value_counts().values[0]/df1.shape[0]"
   ]
  },
  {
   "cell_type": "code",
   "execution_count": 68,
   "metadata": {
    "colab": {
     "base_uri": "https://localhost:8080/",
     "height": 90
    },
    "colab_type": "code",
    "id": "nM43otpoZVEu",
    "outputId": "830b90cd-3d73-4a5f-b9fd-72cba9f95077"
   },
   "outputs": [
    {
     "data": {
      "text/plain": [
       "Iris-versicolor    50\n",
       "Iris-virginica     50\n",
       "Iris-setosa        50\n",
       "Name: Species, dtype: int64"
      ]
     },
     "execution_count": 68,
     "metadata": {},
     "output_type": "execute_result"
    }
   ],
   "source": [
    "df1['Species'].value_counts()"
   ]
  },
  {
   "cell_type": "code",
   "execution_count": 69,
   "metadata": {
    "colab": {
     "base_uri": "https://localhost:8080/",
     "height": 110
    },
    "colab_type": "code",
    "id": "S3IvQBVzir-_",
    "outputId": "adec32e3-04d4-4a25-df07-231849c1f614"
   },
   "outputs": [
    {
     "name": "stderr",
     "output_type": "stream",
     "text": [
      "C:\\Users\\Sanaa\\Anaconda3\\lib\\site-packages\\ipykernel_launcher.py:3: RuntimeWarning: divide by zero encountered in log2\n",
      "  This is separate from the ipykernel package so we can avoid doing imports until\n",
      "C:\\Users\\Sanaa\\Anaconda3\\lib\\site-packages\\ipykernel_launcher.py:3: RuntimeWarning: invalid value encountered in double_scalars\n",
      "  This is separate from the ipykernel package so we can avoid doing imports until\n"
     ]
    }
   ],
   "source": [
    "\n",
    "i=0\n",
    "l=[]\n",
    "while i< len(pl):\n",
    "  d1 = df1[df1['PetalLengthCm']<=pl[i]] ## creating two dataset\n",
    "  d2 = df1[df1['PetalLengthCm']>=pl[i]]\n",
    "  y1 = d1[d1['Species']=='Iris-setosa'].shape[0] ## for one kind of species\n",
    "  n1 = d1[d1['Species']=='Iris-setosa'].shape[0]\n",
    "  d1_y1 = y1/d1.shape[0]\n",
    "  d1_n1 = n1/d1.shape[0]\n",
    "  y2 = d2[d2['Species']=='Iris-setosa'].shape[0]\n",
    "  n2 = d2[d2['Species']=='Iris-setosa'].shape[0]\n",
    "  d2_y2 = y2/d2.shape[0]\n",
    "  d2_n2 = n2/d2.shape[0]\n",
    "  e1 = entropy(d1_y1,d1_n1)\n",
    "  e2 = entropy(d2_y2,d2_n2)\n",
    "  we1=(d1.shape[0]/df1.shape[0])*e1\n",
    "  we2=(d2.shape[0]/df1.shape[0])*e2\n",
    "  we= we1+we2\n",
    "  ig = e_p-we\n",
    "  l.append(ig)\n",
    "  i+=1\n"
   ]
  },
  {
   "cell_type": "code",
   "execution_count": 70,
   "metadata": {
    "colab": {
     "base_uri": "https://localhost:8080/",
     "height": 110
    },
    "colab_type": "code",
    "id": "OGeaomBMAd_C",
    "outputId": "23d0da15-f839-4925-f66e-cbcdb8ca3dd1"
   },
   "outputs": [
    {
     "name": "stderr",
     "output_type": "stream",
     "text": [
      "C:\\Users\\Sanaa\\Anaconda3\\lib\\site-packages\\ipykernel_launcher.py:3: RuntimeWarning: divide by zero encountered in log2\n",
      "  This is separate from the ipykernel package so we can avoid doing imports until\n",
      "C:\\Users\\Sanaa\\Anaconda3\\lib\\site-packages\\ipykernel_launcher.py:3: RuntimeWarning: invalid value encountered in double_scalars\n",
      "  This is separate from the ipykernel package so we can avoid doing imports until\n"
     ]
    }
   ],
   "source": [
    "\n",
    "i=0\n",
    "l1=[]\n",
    "\n",
    "while i< len(pl):\n",
    "  d1 = df1[df1['PetalLengthCm']<=pl[i]]\n",
    "  d2 = df1[df1['PetalLengthCm']>=pl[i]]\n",
    "  y1 = d1[d1['Species']=='Iris-virginica'].shape[0]\n",
    "  n1 = d1[d1['Species']=='Iris-virginica'].shape[0]\n",
    "  d1_y1 = y1/d1.shape[0]\n",
    "  d1_n1 = n1/d1.shape[0]\n",
    "  y2 = d2[d2['Species']=='Iris-virginica'].shape[0]\n",
    "  n2 = d2[d2['Species']=='Iris-virginica'].shape[0]\n",
    "  d2_y2 = y2/d2.shape[0]\n",
    "  d2_n2 = n2/d2.shape[0]\n",
    "  e1 = entropy(d1_y1,d1_n1)\n",
    "  e2 = entropy(d2_y2,d2_n2)\n",
    "  we1=(d1.shape[0]/df1.shape[0])*e1\n",
    "  we2=(d2.shape[0]/df1.shape[0])*e2\n",
    "  we= we1+we2\n",
    "  ig = e_p-we\n",
    "  l1.append(ig)\n",
    "\n",
    "  i+=1\n",
    "\n"
   ]
  },
  {
   "cell_type": "code",
   "execution_count": 71,
   "metadata": {
    "colab": {
     "base_uri": "https://localhost:8080/",
     "height": 110
    },
    "colab_type": "code",
    "id": "JUZc21Mxx9h3",
    "outputId": "2b6ce1bc-fadf-42a2-cdaa-f6abf5332baa"
   },
   "outputs": [
    {
     "name": "stderr",
     "output_type": "stream",
     "text": [
      "C:\\Users\\Sanaa\\Anaconda3\\lib\\site-packages\\ipykernel_launcher.py:3: RuntimeWarning: divide by zero encountered in log2\n",
      "  This is separate from the ipykernel package so we can avoid doing imports until\n",
      "C:\\Users\\Sanaa\\Anaconda3\\lib\\site-packages\\ipykernel_launcher.py:3: RuntimeWarning: invalid value encountered in double_scalars\n",
      "  This is separate from the ipykernel package so we can avoid doing imports until\n"
     ]
    }
   ],
   "source": [
    "\n",
    "i=0\n",
    "l2=[]\n",
    "\n",
    "while i< len(pl):\n",
    "  d1 = df1[df1['PetalLengthCm']<=pl[i]]\n",
    "  d2 = df1[df1['PetalLengthCm']>=pl[i]]\n",
    "  y1 = d1[d1['Species']=='Iris-versicolor'].shape[0]\n",
    "  n1 = d1[d1['Species']=='Iris-versicolor'].shape[0]\n",
    "  d1_y1 = y1/d1.shape[0]\n",
    "  d1_n1 = n1/d1.shape[0]\n",
    "  y2 = d2[d2['Species']=='Iris-versicolor'].shape[0]\n",
    "  n2 = d2[d2['Species']=='Iris-versicolor'].shape[0]\n",
    "  d2_y2 = y2/d2.shape[0]\n",
    "  d2_n2 = n2/d2.shape[0]\n",
    "  e1 = entropy(d1_y1,d1_n1)\n",
    "  e2 = entropy(d2_y2,d2_n2)\n",
    "  we1=(d1.shape[0]/df1.shape[0])*e1\n",
    "  we2=(d2.shape[0]/df1.shape[0])*e2\n",
    "  we= we1+we2\n",
    "  ig = e_p-we\n",
    "  l2.append(ig)\n",
    "  i+=1\n"
   ]
  },
  {
   "cell_type": "code",
   "execution_count": 72,
   "metadata": {
    "colab": {},
    "colab_type": "code",
    "id": "wOvRJaT9nMdN"
   },
   "outputs": [],
   "source": [
    "total_ig = l+l1+l2"
   ]
  },
  {
   "cell_type": "code",
   "execution_count": 73,
   "metadata": {
    "colab": {},
    "colab_type": "code",
    "id": "qD_uN7qPt8Rt"
   },
   "outputs": [],
   "source": [
    "indx=total_ig.index(max(total_ig)) ## index of the max value of ig "
   ]
  },
  {
   "cell_type": "code",
   "execution_count": 74,
   "metadata": {
    "colab": {
     "base_uri": "https://localhost:8080/",
     "height": 35
    },
    "colab_type": "code",
    "id": "duw0UX3Qvjr7",
    "outputId": "cf95c7ee-4a84-40a6-8539-8cd7e1a552b7"
   },
   "outputs": [
    {
     "data": {
      "text/plain": [
       "1.9"
      ]
     },
     "execution_count": 74,
     "metadata": {},
     "output_type": "execute_result"
    }
   ],
   "source": [
    "pl[indx] ## for which the max ig obtain"
   ]
  },
  {
   "cell_type": "code",
   "execution_count": 75,
   "metadata": {
    "colab": {},
    "colab_type": "code",
    "id": "DnzILCgxsx98"
   },
   "outputs": [],
   "source": []
  },
  {
   "cell_type": "code",
   "execution_count": null,
   "metadata": {},
   "outputs": [],
   "source": []
  },
  {
   "cell_type": "code",
   "execution_count": null,
   "metadata": {},
   "outputs": [],
   "source": []
  }
 ],
 "metadata": {
  "colab": {
   "authorship_tag": "ABX9TyPdr41wLZ7B5RkZUOBibDPI",
   "collapsed_sections": [],
   "include_colab_link": true,
   "name": "Decision Tree Task #1.ipynb",
   "provenance": []
  },
  "kernelspec": {
   "display_name": "Python 3",
   "language": "python",
   "name": "python3"
  },
  "language_info": {
   "codemirror_mode": {
    "name": "ipython",
    "version": 3
   },
   "file_extension": ".py",
   "mimetype": "text/x-python",
   "name": "python",
   "nbconvert_exporter": "python",
   "pygments_lexer": "ipython3",
   "version": "3.7.4"
  }
 },
 "nbformat": 4,
 "nbformat_minor": 1
}
